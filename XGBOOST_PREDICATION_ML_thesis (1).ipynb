{
 "cells": [
  {
   "cell_type": "code",
   "execution_count": 1,
   "metadata": {},
   "outputs": [
    {
     "data": {
      "text/html": [
       "<style>.container { width:100% !important; }</style>"
      ],
      "text/plain": [
       "<IPython.core.display.HTML object>"
      ]
     },
     "metadata": {},
     "output_type": "display_data"
    }
   ],
   "source": [
    "from numpy import loadtxt\n",
    "from xgboost import XGBClassifier\n",
    "from sklearn.model_selection import train_test_split\n",
    "from sklearn.metrics import accuracy_score\n",
    "import pandas as pd\n",
    "from pandas import Series\n",
    "from pmdarima.arima import auto_arima\n",
    "import numpy as np\n",
    "import statsmodels.graphics.tsaplots as sgt\n",
    "import statsmodels.tsa.stattools as sts\n",
    "from statsmodels.tsa.seasonal import seasonal_decompose\n",
    "from sklearn.metrics import mean_absolute_error\n",
    "import matplotlib.pyplot as plt\n",
    "from matplotlib.pyplot import figure\n",
    "from IPython.core.display import display, HTML\n",
    "display(HTML(\"<style>.container { width:100% !important; }</style>\"))\n",
    "from sklearn.linear_model import LinearRegression\n",
    "pd.set_option('display.max_Rows', 13000)\n",
    "pd.set_option('display.max_columns', 12000)\n",
    "import warnings\n",
    "warnings.filterwarnings('ignore')\n",
    "import seaborn as sns\n",
    "from termcolor import colored\n",
    "from math import pi\n",
    "from pandas.plotting import autocorrelation_plot\n",
    "from sklearn.metrics import mean_squared_error\n",
    "from statsmodels.tsa.arima_model import ARIMA\n",
    "from math import sqrt\n",
    "from xgboost import XGBRegressor"
   ]
  },
  {
   "cell_type": "code",
   "execution_count": 2,
   "metadata": {},
   "outputs": [],
   "source": [
    "df_xlsx = pd.read_excel('Bucket Performance_thesis.xlsx')\n",
    "df = df_xlsx.copy()"
   ]
  },
  {
   "cell_type": "code",
   "execution_count": 3,
   "metadata": {},
   "outputs": [
    {
     "data": {
      "text/html": [
       "<div>\n",
       "<style scoped>\n",
       "    .dataframe tbody tr th:only-of-type {\n",
       "        vertical-align: middle;\n",
       "    }\n",
       "\n",
       "    .dataframe tbody tr th {\n",
       "        vertical-align: top;\n",
       "    }\n",
       "\n",
       "    .dataframe thead th {\n",
       "        text-align: right;\n",
       "    }\n",
       "</style>\n",
       "<table border=\"1\" class=\"dataframe\">\n",
       "  <thead>\n",
       "    <tr style=\"text-align: right;\">\n",
       "      <th>EOM_BUCKET_GROUPED</th>\n",
       "      <th>Date_time</th>\n",
       "      <th>Performing</th>\n",
       "    </tr>\n",
       "  </thead>\n",
       "  <tbody>\n",
       "    <tr>\n",
       "      <th>46</th>\n",
       "      <td>2020-04</td>\n",
       "      <td>18920</td>\n",
       "    </tr>\n",
       "    <tr>\n",
       "      <th>47</th>\n",
       "      <td>2020-05</td>\n",
       "      <td>19214</td>\n",
       "    </tr>\n",
       "    <tr>\n",
       "      <th>48</th>\n",
       "      <td>2020-06</td>\n",
       "      <td>19313</td>\n",
       "    </tr>\n",
       "    <tr>\n",
       "      <th>49</th>\n",
       "      <td>2020-07</td>\n",
       "      <td>19019</td>\n",
       "    </tr>\n",
       "    <tr>\n",
       "      <th>50</th>\n",
       "      <td>2020-08</td>\n",
       "      <td>19127</td>\n",
       "    </tr>\n",
       "  </tbody>\n",
       "</table>\n",
       "</div>"
      ],
      "text/plain": [
       "EOM_BUCKET_GROUPED Date_time  Performing\n",
       "46                   2020-04       18920\n",
       "47                   2020-05       19214\n",
       "48                   2020-06       19313\n",
       "49                   2020-07       19019\n",
       "50                   2020-08       19127"
      ]
     },
     "execution_count": 3,
     "metadata": {},
     "output_type": "execute_result"
    }
   ],
   "source": [
    "poland = df.loc[df.CLIENT == \"MONEDONOW_PL\"]\n",
    "pl_byaccount= poland.groupby(['EOM_BUCKET_GROUPED','REPORTING_MONTH'])['NR_ACCOUNTS'].sum().reset_index()\n",
    "pl_byaccount.head()\n",
    "pl_byAccount = pd.pivot_table(poland, values= [\"NR_ACCOUNTS\"], index= [\"EOM_BUCKET_GROUPED\"], columns= [\"REPORTING_MONTH\"],margins=False , fill_value= 0,aggfunc=\"sum\")\n",
    "pl_byAccount_x = pl_byAccount.copy()\n",
    "pl_byAccount_x.columns = [''.join(col).strip() for col in pl_byAccount_x.columns.values]\n",
    "poland_complete = pl_byAccount_x.T\n",
    "poland_cleaned = poland_complete.reset_index()\n",
    "poland_cleaned.rename(columns={'index':'Date_time'},inplace=True)\n",
    "poland_cleaned['Date_time'] = poland_cleaned['Date_time'].map(lambda x: str(x)[11:])\n",
    "poland_final = poland_cleaned.drop(['210+','Closed','Extra','NPL Sales','180-209', 'Court', '1-29', '120-149','150-179','30-59','90-119','60-89'], axis=1)\n",
    "poland_final.tail()"
   ]
  },
  {
   "cell_type": "code",
   "execution_count": 4,
   "metadata": {},
   "outputs": [
    {
     "data": {
      "text/html": [
       "<div>\n",
       "<style scoped>\n",
       "    .dataframe tbody tr th:only-of-type {\n",
       "        vertical-align: middle;\n",
       "    }\n",
       "\n",
       "    .dataframe tbody tr th {\n",
       "        vertical-align: top;\n",
       "    }\n",
       "\n",
       "    .dataframe thead th {\n",
       "        text-align: right;\n",
       "    }\n",
       "</style>\n",
       "<table border=\"1\" class=\"dataframe\">\n",
       "  <thead>\n",
       "    <tr style=\"text-align: right;\">\n",
       "      <th>EOM_BUCKET_GROUPED</th>\n",
       "      <th>Performing</th>\n",
       "    </tr>\n",
       "  </thead>\n",
       "  <tbody>\n",
       "    <tr>\n",
       "      <th>count</th>\n",
       "      <td>51.000000</td>\n",
       "    </tr>\n",
       "    <tr>\n",
       "      <th>mean</th>\n",
       "      <td>11934.411765</td>\n",
       "    </tr>\n",
       "    <tr>\n",
       "      <th>std</th>\n",
       "      <td>5063.459707</td>\n",
       "    </tr>\n",
       "    <tr>\n",
       "      <th>min</th>\n",
       "      <td>2212.000000</td>\n",
       "    </tr>\n",
       "    <tr>\n",
       "      <th>25%</th>\n",
       "      <td>7247.000000</td>\n",
       "    </tr>\n",
       "    <tr>\n",
       "      <th>50%</th>\n",
       "      <td>13221.000000</td>\n",
       "    </tr>\n",
       "    <tr>\n",
       "      <th>75%</th>\n",
       "      <td>14927.000000</td>\n",
       "    </tr>\n",
       "    <tr>\n",
       "      <th>max</th>\n",
       "      <td>19313.000000</td>\n",
       "    </tr>\n",
       "  </tbody>\n",
       "</table>\n",
       "</div>"
      ],
      "text/plain": [
       "EOM_BUCKET_GROUPED    Performing\n",
       "count                  51.000000\n",
       "mean                11934.411765\n",
       "std                  5063.459707\n",
       "min                  2212.000000\n",
       "25%                  7247.000000\n",
       "50%                 13221.000000\n",
       "75%                 14927.000000\n",
       "max                 19313.000000"
      ]
     },
     "execution_count": 4,
     "metadata": {},
     "output_type": "execute_result"
    }
   ],
   "source": [
    "poland_final.describe()"
   ]
  },
  {
   "cell_type": "code",
   "execution_count": 5,
   "metadata": {},
   "outputs": [
    {
     "data": {
      "image/png": "[encoded data removed]",
      "text/plain": [
       "<Figure size 1800x360 with 1 Axes>"
      ]
     },
     "metadata": {
      "needs_background": "light"
     },
     "output_type": "display_data"
    }
   ],
   "source": [
    "poland_final.Date_time = pd.to_datetime(poland_final.Date_time, dayfirst = True )\n",
    "poland_final.set_index('Date_time', drop = True ,inplace = True)\n",
    "poland_final['Performing'].plot(figsize = (25,5), label = \"Performing\")\n",
    "\n",
    "plt.title('Poland Market Performing')\n",
    "\n",
    "plt.legend(loc = 'best')\n",
    "plt.show()"
   ]
  },
  {
   "cell_type": "code",
   "execution_count": 6,
   "metadata": {},
   "outputs": [],
   "source": [
    "# Create a superviced Model\n",
    "poland_final[\"target\"] = poland_final['Performing'].shift(-1)\n",
    "poland_final.dropna(inplace=True)"
   ]
  },
  {
   "cell_type": "code",
   "execution_count": 7,
   "metadata": {},
   "outputs": [
    {
     "data": {
      "text/html": [
       "<div>\n",
       "<style scoped>\n",
       "    .dataframe tbody tr th:only-of-type {\n",
       "        vertical-align: middle;\n",
       "    }\n",
       "\n",
       "    .dataframe tbody tr th {\n",
       "        vertical-align: top;\n",
       "    }\n",
       "\n",
       "    .dataframe thead th {\n",
       "        text-align: right;\n",
       "    }\n",
       "</style>\n",
       "<table border=\"1\" class=\"dataframe\">\n",
       "  <thead>\n",
       "    <tr style=\"text-align: right;\">\n",
       "      <th>EOM_BUCKET_GROUPED</th>\n",
       "      <th>Performing</th>\n",
       "      <th>target</th>\n",
       "    </tr>\n",
       "    <tr>\n",
       "      <th>Date_time</th>\n",
       "      <th></th>\n",
       "      <th></th>\n",
       "    </tr>\n",
       "  </thead>\n",
       "  <tbody>\n",
       "    <tr>\n",
       "      <th>2020-03-01</th>\n",
       "      <td>18504</td>\n",
       "      <td>18920.0</td>\n",
       "    </tr>\n",
       "    <tr>\n",
       "      <th>2020-04-01</th>\n",
       "      <td>18920</td>\n",
       "      <td>19214.0</td>\n",
       "    </tr>\n",
       "    <tr>\n",
       "      <th>2020-05-01</th>\n",
       "      <td>19214</td>\n",
       "      <td>19313.0</td>\n",
       "    </tr>\n",
       "    <tr>\n",
       "      <th>2020-06-01</th>\n",
       "      <td>19313</td>\n",
       "      <td>19019.0</td>\n",
       "    </tr>\n",
       "    <tr>\n",
       "      <th>2020-07-01</th>\n",
       "      <td>19019</td>\n",
       "      <td>19127.0</td>\n",
       "    </tr>\n",
       "  </tbody>\n",
       "</table>\n",
       "</div>"
      ],
      "text/plain": [
       "EOM_BUCKET_GROUPED  Performing   target\n",
       "Date_time                              \n",
       "2020-03-01               18504  18920.0\n",
       "2020-04-01               18920  19214.0\n",
       "2020-05-01               19214  19313.0\n",
       "2020-06-01               19313  19019.0\n",
       "2020-07-01               19019  19127.0"
      ]
     },
     "execution_count": 7,
     "metadata": {},
     "output_type": "execute_result"
    }
   ],
   "source": [
    "poland_final.tail()"
   ]
  },
  {
   "cell_type": "markdown",
   "metadata": {},
   "source": [
    "# split data into X and y\n",
    "size= int(len(poland_final)*0.9)\n",
    "preforming_training = poland_final[\"target\"].iloc[:size]\n",
    "performing_Test = poland_final[\"target\"].iloc[size:]\n",
    "performing_Test"
   ]
  },
  {
   "cell_type": "markdown",
   "metadata": {},
   "source": [
    "data = poland_final.values\n",
    "n = int(len(data) * (1 - perc))"
   ]
  },
  {
   "cell_type": "code",
   "execution_count": 8,
   "metadata": {},
   "outputs": [],
   "source": [
    "def train_test_split(data):\n",
    "    data = data.values\n",
    "    n = int(len(data)- (len(data)*0.1))\n",
    "    #print(n)\n",
    "    return data[:n], data[n:]"
   ]
  },
  {
   "cell_type": "code",
   "execution_count": 9,
   "metadata": {},
   "outputs": [],
   "source": [
    "train, test = train_test_split(poland_final)\n"
   ]
  },
  {
   "cell_type": "code",
   "execution_count": 10,
   "metadata": {},
   "outputs": [
    {
     "name": "stdout",
     "output_type": "stream",
     "text": [
      "50\n",
      "45\n",
      "5\n"
     ]
    }
   ],
   "source": [
    "print(len(poland_final))\n",
    "print(len(train))\n",
    "print(len(test))"
   ]
  },
  {
   "cell_type": "code",
   "execution_count": 11,
   "metadata": {},
   "outputs": [
    {
     "name": "stdout",
     "output_type": "stream",
     "text": [
      "[[18504. 18920.]\n",
      " [18920. 19214.]\n",
      " [19214. 19313.]\n",
      " [19313. 19019.]\n",
      " [19019. 19127.]]\n"
     ]
    }
   ],
   "source": [
    "print(test)"
   ]
  },
  {
   "cell_type": "code",
   "execution_count": 12,
   "metadata": {},
   "outputs": [],
   "source": [
    "#reg:squarederror\n",
    "#count:poisson"
   ]
  },
  {
   "cell_type": "code",
   "execution_count": 13,
   "metadata": {},
   "outputs": [],
   "source": [
    "from xgboost import plot_tree\n",
    "def xgb_predict(train, val):\n",
    "    train = np.array(train)\n",
    "    X, y = train[:, :-1], train[:, -1]\n",
    "    model = XGBRegressor(max_depth=1, objective=\"count:poisson\", n_estimators=1000, reg_lambda=1)\n",
    "    model.fit(X, y)\n",
    "    #print(model)\n",
    "    #plot_tree(model)\n",
    "    #plt.show()\n",
    "    val = np.array(val).reshape(1, -1)\n",
    "    pred = model.predict(val)\n",
    "   \n",
    "    \n",
    "\n",
    "    return pred[0]"
   ]
  },
  {
   "cell_type": "code",
   "execution_count": 14,
   "metadata": {},
   "outputs": [
    {
     "data": {
      "text/plain": [
       "18441.17"
      ]
     },
     "execution_count": 14,
     "metadata": {},
     "output_type": "execute_result"
    }
   ],
   "source": [
    "xgb_predict(train, test[0, 0])"
   ]
  },
  {
   "cell_type": "code",
   "execution_count": 15,
   "metadata": {},
   "outputs": [],
   "source": [
    "def validate(data, perc):\n",
    "    predictions = []\n",
    "\n",
    "    train, test = train_test_split(data)\n",
    "\n",
    "    history = [x for x in train]\n",
    "\n",
    "    for i in range(len(test)):\n",
    "        test_X, test_y = test[i, :-1], test[i, -1]\n",
    "\n",
    "        pred = xgb_predict(history, test_X)\n",
    "        predictions.append(pred)\n",
    "\n",
    "        history.append(test[i])\n",
    "        print('>expected=%.1f, predicted=%.1f' % (test_y, pred))\n",
    "\n",
    "    error = mean_squared_error(test[:, -1], predictions, squared=False)\n",
    "    error_1= mean_absolute_error(test[:, -1], predictions)\n",
    "    rmspe = (np.sqrt(np.mean(np.square((test_y - predictions) / test_y)))) * 100\n",
    "        \n",
    "    return error, test[:, -1], predictions,error_1,rmspe"
   ]
  },
  {
   "cell_type": "code",
   "execution_count": 16,
   "metadata": {},
   "outputs": [
    {
     "name": "stdout",
     "output_type": "stream",
     "text": [
      ">expected=18920.0, predicted=18441.2\n",
      ">expected=19214.0, predicted=18859.2\n",
      ">expected=19313.0, predicted=19144.8\n",
      ">expected=19019.0, predicted=19247.7\n",
      ">expected=19127.0, predicted=19171.4\n",
      "rmse: 295.879\n",
      "mae: 254.982\n",
      "rmspe: 1.748\n"
     ]
    }
   ],
   "source": [
    "rmse, y, pred,mae,rmspe = validate(poland_final, 10)\n",
    "print('rmse: %.3f' % rmse)\n",
    "print('mae: %.3f' % mae)\n",
    "print('rmspe: %.3f' % rmspe)"
   ]
  },
  {
   "cell_type": "code",
   "execution_count": 19,
   "metadata": {},
   "outputs": [
    {
     "data": {
      "image/png": "[encoded data removed]",
      "text/plain": [
       "<Figure size 1080x216 with 1 Axes>"
      ]
     },
     "metadata": {
      "needs_background": "light"
     },
     "output_type": "display_data"
    }
   ],
   "source": [
    "# plot expected vs preducted\n",
    "plt.figure(figsize=(15,3))\n",
    "plt.plot(y, label='Expected')\n",
    "plt.plot(pred, label='Predicted',color='red')\n",
    "plt.title('Poland Market Actual and predicted with XGBOOST',fontsize = 18)\n",
    "plt.legend(fontsize = 18)\n",
    "plt.show()"
   ]
  },
  {
   "cell_type": "code",
   "execution_count": null,
   "metadata": {},
   "outputs": [],
   "source": []
  }
 ],
 "metadata": {
  "kernelspec": {
   "display_name": "Python 3",
   "language": "python",
   "name": "python3"
  },
  "language_info": {
   "codemirror_mode": {
    "name": "ipython",
    "version": 3
   },
   "file_extension": ".py",
   "mimetype": "text/x-python",
   "name": "python",
   "nbconvert_exporter": "python",
   "pygments_lexer": "ipython3",
   "version": "3.7.3"
  }
 },
 "nbformat": 4,
 "nbformat_minor": 2
}
